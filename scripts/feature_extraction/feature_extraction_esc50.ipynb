{
  "cells": [
    {
      "cell_type": "code",
      "execution_count": 1,
      "metadata": {
        "colab": {
          "base_uri": "https://localhost:8080/"
        },
        "id": "RephjVVaFRGI",
        "outputId": "e6c9c409-8379-40b9-9095-2c045b363013"
      },
      "outputs": [
        {
          "output_type": "stream",
          "name": "stdout",
          "text": [
            "Collecting python-resize-image\n",
            "  Downloading python_resize_image-1.1.20-py2.py3-none-any.whl (8.4 kB)\n",
            "Requirement already satisfied: Pillow>=5.1.0 in /usr/local/lib/python3.7/dist-packages (from python-resize-image) (7.1.2)\n",
            "Requirement already satisfied: requests>=2.19.1 in /usr/local/lib/python3.7/dist-packages (from python-resize-image) (2.23.0)\n",
            "Requirement already satisfied: chardet<4,>=3.0.2 in /usr/local/lib/python3.7/dist-packages (from requests>=2.19.1->python-resize-image) (3.0.4)\n",
            "Requirement already satisfied: idna<3,>=2.5 in /usr/local/lib/python3.7/dist-packages (from requests>=2.19.1->python-resize-image) (2.10)\n",
            "Requirement already satisfied: urllib3!=1.25.0,!=1.25.1,<1.26,>=1.21.1 in /usr/local/lib/python3.7/dist-packages (from requests>=2.19.1->python-resize-image) (1.24.3)\n",
            "Requirement already satisfied: certifi>=2017.4.17 in /usr/local/lib/python3.7/dist-packages (from requests>=2.19.1->python-resize-image) (2021.10.8)\n",
            "Installing collected packages: python-resize-image\n",
            "Successfully installed python-resize-image-1.1.20\n"
          ]
        }
      ],
      "source": [
        "%pip install python-resize-image"
      ]
    },
    {
      "cell_type": "code",
      "execution_count": 2,
      "metadata": {
        "id": "Ds-R-x9UFRGE"
      },
      "outputs": [],
      "source": [
        "import wave\n",
        "import gc\n",
        "import librosa\n",
        "import librosa.display\n",
        "import IPython\n",
        "import numpy as np\n",
        "import tensorflow as tf\n",
        "import pandas as pd\n",
        "import sys\n",
        "from PIL import Image # pip install Pillow\n",
        "from PIL import ImageOps\n",
        "from resizeimage import resizeimage\n",
        "import matplotlib.pyplot as plt\n",
        "from tqdm import tqdm\n",
        "from pathlib import Path\n",
        "from tensorflow.keras import layers\n",
        "from tensorflow.keras.models import Sequential\n",
        "from tensorflow.python.client import device_lib\n",
        "import os"
      ]
    },
    {
      "cell_type": "code",
      "execution_count": 3,
      "metadata": {
        "colab": {
          "base_uri": "https://localhost:8080/"
        },
        "id": "ktRk6oN6FRGJ",
        "outputId": "aa7b7334-03b6-4bb4-8416-a03b5b9526db"
      },
      "outputs": [
        {
          "output_type": "stream",
          "name": "stdout",
          "text": [
            "Mounted at /content/drive\n"
          ]
        }
      ],
      "source": [
        "from google.colab import drive\n",
        "drive.mount('/content/drive')"
      ]
    },
    {
      "cell_type": "code",
      "execution_count": 4,
      "metadata": {
        "id": "XGdxitYHFRGJ"
      },
      "outputs": [],
      "source": [
        "# PATH_TO_DATASET = 'C:\\\\Users\\\\Interns\\\\Desktop\\\\Datasets\\\\ESC-50-master\\\\Sorted'\n",
        "PATH_TO_DATASET = '/content/drive/MyDrive/FSD/ESC-50-master/Sorted'\n",
        "PATH_TO_SPECTROGRAMS = '/content/drive/MyDrive/FSD/ESC-50-master/spectrograms'"
      ]
    },
    {
      "cell_type": "code",
      "execution_count": 5,
      "metadata": {
        "colab": {
          "base_uri": "https://localhost:8080/",
          "height": 424
        },
        "id": "X6imzq6OFRGK",
        "outputId": "48ba26dd-1274-4f01-9c54-542b772adb0d"
      },
      "outputs": [
        {
          "output_type": "execute_result",
          "data": {
            "text/plain": [
              "               file           label\n",
              "0     5-251962-A-47        airplane\n",
              "1     4-161099-B-47        airplane\n",
              "2     5-251971-A-47        airplane\n",
              "3     3-128512-A-47        airplane\n",
              "4     5-251957-A-47        airplane\n",
              "...             ...             ...\n",
              "2000  2-106073-A-36  vacuum_cleaner\n",
              "2001  4-181999-A-36  vacuum_cleaner\n",
              "2002  5-188365-A-36  vacuum_cleaner\n",
              "2003  5-182007-A-36  vacuum_cleaner\n",
              "2004  5-212054-A-36  vacuum_cleaner\n",
              "\n",
              "[2005 rows x 2 columns]"
            ],
            "text/html": [
              "\n",
              "  <div id=\"df-4e7e44e2-a208-41b4-b7c6-9f208351338b\">\n",
              "    <div class=\"colab-df-container\">\n",
              "      <div>\n",
              "<style scoped>\n",
              "    .dataframe tbody tr th:only-of-type {\n",
              "        vertical-align: middle;\n",
              "    }\n",
              "\n",
              "    .dataframe tbody tr th {\n",
              "        vertical-align: top;\n",
              "    }\n",
              "\n",
              "    .dataframe thead th {\n",
              "        text-align: right;\n",
              "    }\n",
              "</style>\n",
              "<table border=\"1\" class=\"dataframe\">\n",
              "  <thead>\n",
              "    <tr style=\"text-align: right;\">\n",
              "      <th></th>\n",
              "      <th>file</th>\n",
              "      <th>label</th>\n",
              "    </tr>\n",
              "  </thead>\n",
              "  <tbody>\n",
              "    <tr>\n",
              "      <th>0</th>\n",
              "      <td>5-251962-A-47</td>\n",
              "      <td>airplane</td>\n",
              "    </tr>\n",
              "    <tr>\n",
              "      <th>1</th>\n",
              "      <td>4-161099-B-47</td>\n",
              "      <td>airplane</td>\n",
              "    </tr>\n",
              "    <tr>\n",
              "      <th>2</th>\n",
              "      <td>5-251971-A-47</td>\n",
              "      <td>airplane</td>\n",
              "    </tr>\n",
              "    <tr>\n",
              "      <th>3</th>\n",
              "      <td>3-128512-A-47</td>\n",
              "      <td>airplane</td>\n",
              "    </tr>\n",
              "    <tr>\n",
              "      <th>4</th>\n",
              "      <td>5-251957-A-47</td>\n",
              "      <td>airplane</td>\n",
              "    </tr>\n",
              "    <tr>\n",
              "      <th>...</th>\n",
              "      <td>...</td>\n",
              "      <td>...</td>\n",
              "    </tr>\n",
              "    <tr>\n",
              "      <th>2000</th>\n",
              "      <td>2-106073-A-36</td>\n",
              "      <td>vacuum_cleaner</td>\n",
              "    </tr>\n",
              "    <tr>\n",
              "      <th>2001</th>\n",
              "      <td>4-181999-A-36</td>\n",
              "      <td>vacuum_cleaner</td>\n",
              "    </tr>\n",
              "    <tr>\n",
              "      <th>2002</th>\n",
              "      <td>5-188365-A-36</td>\n",
              "      <td>vacuum_cleaner</td>\n",
              "    </tr>\n",
              "    <tr>\n",
              "      <th>2003</th>\n",
              "      <td>5-182007-A-36</td>\n",
              "      <td>vacuum_cleaner</td>\n",
              "    </tr>\n",
              "    <tr>\n",
              "      <th>2004</th>\n",
              "      <td>5-212054-A-36</td>\n",
              "      <td>vacuum_cleaner</td>\n",
              "    </tr>\n",
              "  </tbody>\n",
              "</table>\n",
              "<p>2005 rows × 2 columns</p>\n",
              "</div>\n",
              "      <button class=\"colab-df-convert\" onclick=\"convertToInteractive('df-4e7e44e2-a208-41b4-b7c6-9f208351338b')\"\n",
              "              title=\"Convert this dataframe to an interactive table.\"\n",
              "              style=\"display:none;\">\n",
              "        \n",
              "  <svg xmlns=\"http://www.w3.org/2000/svg\" height=\"24px\"viewBox=\"0 0 24 24\"\n",
              "       width=\"24px\">\n",
              "    <path d=\"M0 0h24v24H0V0z\" fill=\"none\"/>\n",
              "    <path d=\"M18.56 5.44l.94 2.06.94-2.06 2.06-.94-2.06-.94-.94-2.06-.94 2.06-2.06.94zm-11 1L8.5 8.5l.94-2.06 2.06-.94-2.06-.94L8.5 2.5l-.94 2.06-2.06.94zm10 10l.94 2.06.94-2.06 2.06-.94-2.06-.94-.94-2.06-.94 2.06-2.06.94z\"/><path d=\"M17.41 7.96l-1.37-1.37c-.4-.4-.92-.59-1.43-.59-.52 0-1.04.2-1.43.59L10.3 9.45l-7.72 7.72c-.78.78-.78 2.05 0 2.83L4 21.41c.39.39.9.59 1.41.59.51 0 1.02-.2 1.41-.59l7.78-7.78 2.81-2.81c.8-.78.8-2.07 0-2.86zM5.41 20L4 18.59l7.72-7.72 1.47 1.35L5.41 20z\"/>\n",
              "  </svg>\n",
              "      </button>\n",
              "      \n",
              "  <style>\n",
              "    .colab-df-container {\n",
              "      display:flex;\n",
              "      flex-wrap:wrap;\n",
              "      gap: 12px;\n",
              "    }\n",
              "\n",
              "    .colab-df-convert {\n",
              "      background-color: #E8F0FE;\n",
              "      border: none;\n",
              "      border-radius: 50%;\n",
              "      cursor: pointer;\n",
              "      display: none;\n",
              "      fill: #1967D2;\n",
              "      height: 32px;\n",
              "      padding: 0 0 0 0;\n",
              "      width: 32px;\n",
              "    }\n",
              "\n",
              "    .colab-df-convert:hover {\n",
              "      background-color: #E2EBFA;\n",
              "      box-shadow: 0px 1px 2px rgba(60, 64, 67, 0.3), 0px 1px 3px 1px rgba(60, 64, 67, 0.15);\n",
              "      fill: #174EA6;\n",
              "    }\n",
              "\n",
              "    [theme=dark] .colab-df-convert {\n",
              "      background-color: #3B4455;\n",
              "      fill: #D2E3FC;\n",
              "    }\n",
              "\n",
              "    [theme=dark] .colab-df-convert:hover {\n",
              "      background-color: #434B5C;\n",
              "      box-shadow: 0px 1px 3px 1px rgba(0, 0, 0, 0.15);\n",
              "      filter: drop-shadow(0px 1px 2px rgba(0, 0, 0, 0.3));\n",
              "      fill: #FFFFFF;\n",
              "    }\n",
              "  </style>\n",
              "\n",
              "      <script>\n",
              "        const buttonEl =\n",
              "          document.querySelector('#df-4e7e44e2-a208-41b4-b7c6-9f208351338b button.colab-df-convert');\n",
              "        buttonEl.style.display =\n",
              "          google.colab.kernel.accessAllowed ? 'block' : 'none';\n",
              "\n",
              "        async function convertToInteractive(key) {\n",
              "          const element = document.querySelector('#df-4e7e44e2-a208-41b4-b7c6-9f208351338b');\n",
              "          const dataTable =\n",
              "            await google.colab.kernel.invokeFunction('convertToInteractive',\n",
              "                                                     [key], {});\n",
              "          if (!dataTable) return;\n",
              "\n",
              "          const docLinkHtml = 'Like what you see? Visit the ' +\n",
              "            '<a target=\"_blank\" href=https://colab.research.google.com/notebooks/data_table.ipynb>data table notebook</a>'\n",
              "            + ' to learn more about interactive tables.';\n",
              "          element.innerHTML = '';\n",
              "          dataTable['output_type'] = 'display_data';\n",
              "          await google.colab.output.renderOutput(dataTable, element);\n",
              "          const docLink = document.createElement('div');\n",
              "          docLink.innerHTML = docLinkHtml;\n",
              "          element.appendChild(docLink);\n",
              "        }\n",
              "      </script>\n",
              "    </div>\n",
              "  </div>\n",
              "  "
            ]
          },
          "metadata": {},
          "execution_count": 5
        }
      ],
      "source": [
        "df = pd.DataFrame()\n",
        "files = []\n",
        "labels = []\n",
        "for folder in os.listdir(PATH_TO_DATASET):\n",
        "    for file in os.listdir(str(os.path.join(PATH_TO_DATASET, str(folder)))):\n",
        "        files.append(file.split('.')[0])\n",
        "        labels.append(folder)\n",
        "                \n",
        "df['file'] = files   \n",
        "df['label'] = labels\n",
        "df"
      ]
    },
    {
      "cell_type": "code",
      "execution_count": null,
      "metadata": {
        "colab": {
          "base_uri": "https://localhost:8080/",
          "height": 282
        },
        "id": "41JJxgyOFRGK",
        "outputId": "a1ca3e24-96a8-4ff1-bf74-4ea7913b05bb"
      },
      "outputs": [
        {
          "output_type": "execute_result",
          "data": {
            "text/plain": [
              "[<matplotlib.lines.Line2D at 0x7fe2fff8c610>]"
            ]
          },
          "metadata": {},
          "execution_count": 6
        },
        {
          "output_type": "display_data",
          "data": {
            "text/plain": [
              "<Figure size 432x288 with 2 Axes>"
            ],
            "image/png": "[encoded data removed]"
          },
          "metadata": {
            "needs_background": "light"
          }
        }
      ],
      "source": [
        "###VISUALISING AUDIO FILE\n",
        "y, sr = librosa.load('/content/drive/MyDrive/FSD/ESC-50-master/Sorted/airplane/1-11687-A-47.wav')\n",
        "plt.figure()\n",
        "plt.subplot(3, 2, 1)\n",
        "spectrogram = librosa.amplitude_to_db(np.abs(librosa.stft(y)), ref=np.max)\n",
        "spectrogram = librosa.feature.melspectrogram(S = spectrogram**2)\n",
        "#### used to display audio file and specto plot\n",
        "librosa.display.specshow(spectrogram, y_axis='linear')\n",
        "signal = plt.subplot(2, 2, 3)\n",
        "signal.plot(y, color=\"c\")"
      ]
    },
    {
      "cell_type": "code",
      "execution_count": 24,
      "metadata": {
        "id": "StWPpV2nFRGL"
      },
      "outputs": [],
      "source": [
        "# Creating the classes directories from Class0 to Class9\n",
        "specdirectory = \"/content/drive/MyDrive/FSD/spectrograms_32_128/\"\n",
        "\n",
        "labels = set(df['label'].tolist())\n",
        "for label in labels:\n",
        "    Path(specdirectory + str(label)).mkdir(parents=True, exist_ok=True)   "
      ]
    },
    {
      "cell_type": "code",
      "execution_count": 25,
      "metadata": {
        "id": "SYnoovJBFRGL"
      },
      "outputs": [],
      "source": [
        "SAMPLING_RATE = 16000"
      ]
    },
    {
      "cell_type": "code",
      "execution_count": 26,
      "metadata": {
        "id": "l4H_QQiyFRGM"
      },
      "outputs": [],
      "source": [
        "def genspectrograms(row):\n",
        "    spect_directory = \"class_\" + str(row[\"label\"])\n",
        "    y, sr = librosa.load('/content/drive/MyDrive/FSD/ESC-50-master/Sorted' + \"/\" + str(row[\"label\"]) + \"/\" + row[\"file\"] + \".wav\", sr=SAMPLING_RATE)\n",
        "    y=librosa.util.normalize(y)\n",
        "    spectrogram = librosa.amplitude_to_db(np.abs(librosa.stft(y, int((SAMPLING_RATE)/(1/0.64)))), ref=np.max)\n",
        "    dur = librosa.get_duration(y)\n",
        "    ## for chroma mfcc and use \n",
        "    ## librosa.feature.mfcc(y=y, sr=sr)\n",
        "    ## librosa.feature.chroma_stft\n",
        "    spectrogram = librosa.feature.melspectrogram(n_mels=128, S = spectrogram**2, window=(SAMPLING_RATE)/(1/0.025), hop_length=(SAMPLING_RATE)/(1/0.01)).T\n",
        "    librosa.display.specshow(spectrogram)\n",
        "    librosa.display.specshow(spectrogram)\n",
        "  \n",
        "    specdirectory =  f\"/content/drive/MyDrive/FSD/spectrograms_32_128/{row['label']}/{row['file']}.npy\"\n",
        "    np.save(specdirectory, spectrogram)\n",
        "    plt.clf()\n",
        "    plt.close('all')\n",
        "    gc.collect()"
      ]
    },
    {
      "cell_type": "code",
      "execution_count": 13,
      "metadata": {
        "id": "bJ74AVLLFRGN"
      },
      "outputs": [],
      "source": [
        "#configs\n",
        "tqdm.pandas()"
      ]
    },
    {
      "cell_type": "code",
      "source": [
        "df.progress_apply(genspectrograms, axis=1)"
      ],
      "metadata": {
        "colab": {
          "base_uri": "https://localhost:8080/"
        },
        "id": "JA1uIIbPHJCg",
        "outputId": "c5a6eecc-7213-442a-e08c-8d138fbbe0e2"
      },
      "execution_count": null,
      "outputs": [
        {
          "output_type": "stream",
          "name": "stderr",
          "text": [
            " 12%|█▏        | 246/2005 [04:09<30:01,  1.02s/it]"
          ]
        }
      ]
    }
  ],
  "metadata": {
    "interpreter": {
      "hash": "d2c89df981b3f44a63a9b45a6eb23cdb3453289b4fa1d1959e4fac49a3a28475"
    },
    "kernelspec": {
      "display_name": "Python 3.9.7 ('py39_sal': venv)",
      "language": "python",
      "name": "python3"
    },
    "language_info": {
      "codemirror_mode": {
        "name": "ipython",
        "version": 3
      },
      "file_extension": ".py",
      "mimetype": "text/x-python",
      "name": "python",
      "nbconvert_exporter": "python",
      "pygments_lexer": "ipython3",
      "version": "3.9.7"
    },
    "orig_nbformat": 4,
    "colab": {
      "name": "esc50_feature_extraction.ipynb",
      "provenance": [],
      "collapsed_sections": []
    }
  },
  "nbformat": 4,
  "nbformat_minor": 0
}